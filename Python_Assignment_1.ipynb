{
 "cells": [
  {
   "cell_type": "markdown",
   "id": "bf1255eb",
   "metadata": {},
   "source": [
    "# Python Basic Assignment No 1"
   ]
  },
  {
   "cell_type": "raw",
   "id": "3a49c5e9",
   "metadata": {},
   "source": [
    "1. In the below elements which of them are values or an expression? eg:- values can be integer or string and expressions      will be mathematical operators.\n",
    " \n",
    "Ans:- * , - , / , + ,  These are Expression\n",
    "      ' hello ' , -87.8 , 6 These are value\n",
    "    "
   ]
  },
  {
   "cell_type": "raw",
   "id": "8be4dadb",
   "metadata": {},
   "source": [
    "2. What is the difference between string and variable?\n",
    "\n",
    "Ans :- 1. A string is a sequence of one or more characters (letters, numbers, symbols),String can be declare in single (')or double (\") quotes but whichever you decide on you should be consistent within a program.String in python is an immutable data type that is once a value is assigned to the variable it cannot be changed later.\n",
    "\n",
    "\n",
    "            'This is a string in single quotes.'----Single Quotes\n",
    "            \"This is a string in double quotes.\"----Double Quotes\n",
    "\n",
    "\n",
    "\n",
    "2. We can print out strings by calling the print() function.\n",
    "\n",
    "         print(\"Let's print out this string.\")---Printing the string\n",
    "\n",
    "\n",
    "3. Strings cannot be concatenated with integer but it can be concatenate with other string.\n",
    "\n",
    " eg for string concate integer :- print(\"I have eaten \"+99+\"burritos\")--can only concatenate str (not \"int\") to str-(error)\n",
    " \n",
    " eg for string concate string :- print(\"Sammy\" + \"Shark\")--(No Error)\n",
    " \n",
    "VARIABLE\n",
    "\n",
    "4. Variable is basically the name of the location in the primary memory of your computer That can hold or store data  \n",
    "\n",
    "5. we can think of them as an empty box that we fill with some data or value. eg Strings are data, so we can use them to      fill up a variable. Variable names cannot begin with a number \n",
    "\n",
    "6. Declaring strings as variables can make it easier for us to work with strings throughout our Python programs.\n",
    "   to store a string inside a variable, we need to assign a variable to a string. \n",
    "   \n",
    "7. In this case I have declare my_Var as our variable\n",
    "   eg :- my_Var = \"Sammy likes declaring strings.\"\n",
    "       (Variable)         (String)\n",
    "       \n",
    "8. Data is assign to the variable by equalto symbol (=)\n",
    "   eg :- a=5 so,here a is a variable , = operator & 5 is a data assign to variable a  \n",
    "       "
   ]
  },
  {
   "cell_type": "raw",
   "id": "700d3549",
   "metadata": {},
   "source": [
    "3. Describe three different data types\n",
    "\n",
    "Ans :- 1. Data type in programming, is a classification that specifies which type of value a variable is holding and what         type of mathematical, relational or logical operations can be applied to it without causing an error.\n",
    "\n",
    "2. Numeric Data types- There are 4 types of numeric data types in python\n",
    "\n",
    "1) Int – It stores the integers values that can be positive or negative and do not contain any decimal point.\n",
    "\n",
    "E.g – num1=10, num2 = 15\n",
    "\n",
    "2) Float – These are floating-point real numbers that stores the decimal values. It consists of integer and fraction parts.\n",
    "\n",
    "E.g – fnum = 25.4, fnum1=67.8\n",
    "\n",
    "3) Complex – These are complex numbers specified as a real part and an imaginary part. They are stored in the form of a + bj where a is the real part and j represents the imaginary part.\n",
    "\n",
    "E.g – num3= 2 + 3j, numcom = 5 – 7j\n",
    "\n",
    "3. String is a sequence of characters enclosed in single quotes or double quotes.The character present in a string can be any digit, letter, special symbols, or white spaces. \n",
    "\n",
    "4. String in python is an immutable data type that is once a value is assigned to the variable it cannot be changed later.\n",
    "\n",
    "E.g – str1=“Apple12”\n",
    "\n",
    "Str2= ‘hello’\n",
    "\n",
    "Str3 = ”Hey, I am Shamu “\n",
    "\n",
    "5. List is a collection of elements that belongs to different data types like int, float, string, list, etc. \n",
    "\n",
    "6. All the elements of the list are enclosed in square brackets and are separated by the comma with each other. \n",
    "\n",
    "7. The list is a mutable data type that is we can change the elements of the list once it is created.\n",
    "\n",
    "Eg:-\n",
    "\n",
    "List1=[123,567,89] #list of numbers\n",
    "\n",
    "List2=[“hello”,”how”,”are”] #list of strings\n",
    "\n",
    "List3= [“hey”,1223,”hello”] #list of mixed data type.\n",
    " \n",
    " "
   ]
  },
  {
   "cell_type": "raw",
   "id": "2966bd28",
   "metadata": {},
   "source": [
    "4. What is an expression made up of? What do all expressions do?\n",
    "\n",
    "Ans :- 1. An expression is a combination of operators (=,+,-,/) and operands (eg:-1,2) that is interpreted to produce some        other value. \n",
    "    eg :- 10 + 10 --- Here 10,10, are operands and + is a operator   \n",
    "\n",
    "2. In any programming language, an expression is evaluated as per the precedence of its operators. So that if there is more    than one operator in an expression, their precedence decides which operation will be performed first.\n",
    "\n",
    "3. Type of expression are 1. Constant expression 2.Arithmatic operation etc \n",
    "\n",
    "4. Expression are used to evaluates value or perform a mathematical task . "
   ]
  },
  {
   "cell_type": "raw",
   "id": "31e1c7e3",
   "metadata": {},
   "source": [
    "5. This assignment statements, like spam = 10. What is the difference between an\n",
    "expression and a statement?\n",
    "\n",
    "Ans :- Difference between expression and a statement is that An expression evaluates to a single value and statement does not."
   ]
  },
  {
   "cell_type": "raw",
   "id": "318a52fa",
   "metadata": {},
   "source": [
    "6. After running the following code, what does the variable bacon contain?\n",
    "   bacon = 22\n",
    "   bacon + 1\n",
    "   \n",
    "Ans :- After running the above code the variable bacon contain value 23 , because initally bacaon value is 22 & in the next line bacon + 1 (i.e 22 (bacon inital value)+1=23"
   ]
  },
  {
   "cell_type": "raw",
   "id": "5b75cfa7",
   "metadata": {},
   "source": [
    "7. What should the values of the following two terms be?\n",
    "   'spam'+ 'spamspam'\n",
    "   'spam'*3\n",
    " \n",
    "Ans :- The value of above term 'spam'+ 'spamspam' output ('spamspamspam')\n",
    "       The value of above term    'spam'*3 output ('spamspamspam')\n"
   ]
  },
  {
   "cell_type": "raw",
   "id": "2c8a1eee",
   "metadata": {},
   "source": [
    "8. Why is eggs a valid variable name while 100 is invalid?\n",
    " \n",
    " Ans :- Eggs is a valid variable because it start with letter or character & Variable names cannot begin with a number so           100 is number int value that why its invalid,but we can start with eggs100"
   ]
  },
  {
   "cell_type": "raw",
   "id": "fecef958",
   "metadata": {},
   "source": [
    "9. What three functions can be used to get the integer, floating-point number, or string\n",
    "   version of a value?\n",
    "   \n",
    "Ans :- Three function are str(), int(), float()"
   ]
  },
  {
   "cell_type": "raw",
   "id": "088ff504",
   "metadata": {},
   "source": [
    "10. Why does this expression cause an error? How can you fix it?\n",
    "    'I have eaten' + 99 + 'burritos'\n",
    "\n",
    "Ans :-1. The above expression cause error because 99 is a integer & integer cannot be concatenated with string .\n",
    "\n",
    "2. Solution to this is we need to type caste the value 99 to str,because we can concatenate str to str\n",
    "\n",
    "3. print('I have eaten' + str(99) + 'burritos') --- Output :- I have eaten99burritos\n"
   ]
  },
  {
   "cell_type": "code",
   "execution_count": null,
   "id": "5834388a",
   "metadata": {},
   "outputs": [],
   "source": []
  },
  {
   "cell_type": "code",
   "execution_count": null,
   "id": "d9a627be",
   "metadata": {},
   "outputs": [],
   "source": []
  },
  {
   "cell_type": "code",
   "execution_count": null,
   "id": "343368bd",
   "metadata": {},
   "outputs": [],
   "source": []
  },
  {
   "cell_type": "code",
   "execution_count": null,
   "id": "b1d9cbd9",
   "metadata": {},
   "outputs": [],
   "source": []
  },
  {
   "cell_type": "code",
   "execution_count": null,
   "id": "11dd3c75",
   "metadata": {},
   "outputs": [],
   "source": []
  },
  {
   "cell_type": "code",
   "execution_count": null,
   "id": "753f786b",
   "metadata": {},
   "outputs": [],
   "source": []
  },
  {
   "cell_type": "code",
   "execution_count": null,
   "id": "5c5e634f",
   "metadata": {},
   "outputs": [],
   "source": []
  },
  {
   "cell_type": "code",
   "execution_count": null,
   "id": "f7889a52",
   "metadata": {},
   "outputs": [],
   "source": []
  },
  {
   "cell_type": "code",
   "execution_count": null,
   "id": "99ebadb7",
   "metadata": {},
   "outputs": [],
   "source": []
  }
 ],
 "metadata": {
  "kernelspec": {
   "display_name": "Python 3 (ipykernel)",
   "language": "python",
   "name": "python3"
  },
  "language_info": {
   "codemirror_mode": {
    "name": "ipython",
    "version": 3
   },
   "file_extension": ".py",
   "mimetype": "text/x-python",
   "name": "python",
   "nbconvert_exporter": "python",
   "pygments_lexer": "ipython3",
   "version": "3.9.7"
  }
 },
 "nbformat": 4,
 "nbformat_minor": 5
}
